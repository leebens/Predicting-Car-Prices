{
 "cells": [
  {
   "cell_type": "markdown",
   "metadata": {
    "collapsed": true
   },
   "source": [
    "# Predicting Car Prices"
   ]
  },
  {
   "cell_type": "markdown",
   "metadata": {},
   "source": [
    "In this project, I will predict a car's market price using its attributes. The data set we will be working with contains information on various cars. For each car we have information about the technical aspects of the vehicle such as the motor's displacement, the weight of the car, the miles per gallon, how fast the car accelerates, and more. \n",
    "\n",
    "You can read more about the data set here (https://archive.ics.uci.edu/ml/datasets/automobile)\n",
    "and can download it directly from here (https://archive.ics.uci.edu/ml/machine-learning-databases/autos/imports-85.data)"
   ]
  },
  {
   "cell_type": "code",
   "execution_count": 43,
   "metadata": {
    "collapsed": false
   },
   "outputs": [],
   "source": [
    "import pandas as pd\n",
    "import numpy as np\n",
    "from sklearn.neighbors import KNeighborsRegressor\n",
    "from sklearn.metrics import mean_squared_error\n",
    "import math\n",
    "from matplotlib import pyplot\n",
    "\n",
    "pd.options.display.max_columns = 99\n",
    "%matplotlib inline  "
   ]
  },
  {
   "cell_type": "code",
   "execution_count": 5,
   "metadata": {
    "collapsed": false
   },
   "outputs": [
    {
     "name": "stdout",
     "output_type": "stream",
     "text": [
      "symboling              int64\n",
      "normalized-losses     object\n",
      "make                  object\n",
      "fuel-type             object\n",
      "aspiration            object\n",
      "num-of-doors          object\n",
      "body-style            object\n",
      "drive-wheels          object\n",
      "engine-location       object\n",
      "wheel-base           float64\n",
      "length               float64\n",
      "width                float64\n",
      "height               float64\n",
      "curb-weight            int64\n",
      "engine-type           object\n",
      "num-of-cyclinders     object\n",
      "engine-size            int64\n",
      "fuel-system           object\n",
      "bore                  object\n",
      "stroke                object\n",
      "compression-ratio    float64\n",
      "horsepower            object\n",
      "peak-rpm              object\n",
      "city-mpg               int64\n",
      "highway-mpg            int64\n",
      "price                 object\n",
      "dtype: object\n"
     ]
    },
    {
     "data": {
      "text/html": [
       "<div>\n",
       "<style scoped>\n",
       "    .dataframe tbody tr th:only-of-type {\n",
       "        vertical-align: middle;\n",
       "    }\n",
       "\n",
       "    .dataframe tbody tr th {\n",
       "        vertical-align: top;\n",
       "    }\n",
       "\n",
       "    .dataframe thead th {\n",
       "        text-align: right;\n",
       "    }\n",
       "</style>\n",
       "<table border=\"1\" class=\"dataframe\">\n",
       "  <thead>\n",
       "    <tr style=\"text-align: right;\">\n",
       "      <th></th>\n",
       "      <th>symboling</th>\n",
       "      <th>normalized-losses</th>\n",
       "      <th>make</th>\n",
       "      <th>fuel-type</th>\n",
       "      <th>aspiration</th>\n",
       "      <th>num-of-doors</th>\n",
       "      <th>body-style</th>\n",
       "      <th>drive-wheels</th>\n",
       "      <th>engine-location</th>\n",
       "      <th>wheel-base</th>\n",
       "      <th>length</th>\n",
       "      <th>width</th>\n",
       "      <th>height</th>\n",
       "      <th>curb-weight</th>\n",
       "      <th>engine-type</th>\n",
       "      <th>num-of-cyclinders</th>\n",
       "      <th>engine-size</th>\n",
       "      <th>fuel-system</th>\n",
       "      <th>bore</th>\n",
       "      <th>stroke</th>\n",
       "      <th>compression-ratio</th>\n",
       "      <th>horsepower</th>\n",
       "      <th>peak-rpm</th>\n",
       "      <th>city-mpg</th>\n",
       "      <th>highway-mpg</th>\n",
       "      <th>price</th>\n",
       "    </tr>\n",
       "  </thead>\n",
       "  <tbody>\n",
       "    <tr>\n",
       "      <th>0</th>\n",
       "      <td>3</td>\n",
       "      <td>?</td>\n",
       "      <td>alfa-romero</td>\n",
       "      <td>gas</td>\n",
       "      <td>std</td>\n",
       "      <td>two</td>\n",
       "      <td>convertible</td>\n",
       "      <td>rwd</td>\n",
       "      <td>front</td>\n",
       "      <td>88.6</td>\n",
       "      <td>168.8</td>\n",
       "      <td>64.1</td>\n",
       "      <td>48.8</td>\n",
       "      <td>2548</td>\n",
       "      <td>dohc</td>\n",
       "      <td>four</td>\n",
       "      <td>130</td>\n",
       "      <td>mpfi</td>\n",
       "      <td>3.47</td>\n",
       "      <td>2.68</td>\n",
       "      <td>9.0</td>\n",
       "      <td>111</td>\n",
       "      <td>5000</td>\n",
       "      <td>21</td>\n",
       "      <td>27</td>\n",
       "      <td>13495</td>\n",
       "    </tr>\n",
       "    <tr>\n",
       "      <th>1</th>\n",
       "      <td>3</td>\n",
       "      <td>?</td>\n",
       "      <td>alfa-romero</td>\n",
       "      <td>gas</td>\n",
       "      <td>std</td>\n",
       "      <td>two</td>\n",
       "      <td>convertible</td>\n",
       "      <td>rwd</td>\n",
       "      <td>front</td>\n",
       "      <td>88.6</td>\n",
       "      <td>168.8</td>\n",
       "      <td>64.1</td>\n",
       "      <td>48.8</td>\n",
       "      <td>2548</td>\n",
       "      <td>dohc</td>\n",
       "      <td>four</td>\n",
       "      <td>130</td>\n",
       "      <td>mpfi</td>\n",
       "      <td>3.47</td>\n",
       "      <td>2.68</td>\n",
       "      <td>9.0</td>\n",
       "      <td>111</td>\n",
       "      <td>5000</td>\n",
       "      <td>21</td>\n",
       "      <td>27</td>\n",
       "      <td>16500</td>\n",
       "    </tr>\n",
       "    <tr>\n",
       "      <th>2</th>\n",
       "      <td>1</td>\n",
       "      <td>?</td>\n",
       "      <td>alfa-romero</td>\n",
       "      <td>gas</td>\n",
       "      <td>std</td>\n",
       "      <td>two</td>\n",
       "      <td>hatchback</td>\n",
       "      <td>rwd</td>\n",
       "      <td>front</td>\n",
       "      <td>94.5</td>\n",
       "      <td>171.2</td>\n",
       "      <td>65.5</td>\n",
       "      <td>52.4</td>\n",
       "      <td>2823</td>\n",
       "      <td>ohcv</td>\n",
       "      <td>six</td>\n",
       "      <td>152</td>\n",
       "      <td>mpfi</td>\n",
       "      <td>2.68</td>\n",
       "      <td>3.47</td>\n",
       "      <td>9.0</td>\n",
       "      <td>154</td>\n",
       "      <td>5000</td>\n",
       "      <td>19</td>\n",
       "      <td>26</td>\n",
       "      <td>16500</td>\n",
       "    </tr>\n",
       "    <tr>\n",
       "      <th>3</th>\n",
       "      <td>2</td>\n",
       "      <td>164</td>\n",
       "      <td>audi</td>\n",
       "      <td>gas</td>\n",
       "      <td>std</td>\n",
       "      <td>four</td>\n",
       "      <td>sedan</td>\n",
       "      <td>fwd</td>\n",
       "      <td>front</td>\n",
       "      <td>99.8</td>\n",
       "      <td>176.6</td>\n",
       "      <td>66.2</td>\n",
       "      <td>54.3</td>\n",
       "      <td>2337</td>\n",
       "      <td>ohc</td>\n",
       "      <td>four</td>\n",
       "      <td>109</td>\n",
       "      <td>mpfi</td>\n",
       "      <td>3.19</td>\n",
       "      <td>3.40</td>\n",
       "      <td>10.0</td>\n",
       "      <td>102</td>\n",
       "      <td>5500</td>\n",
       "      <td>24</td>\n",
       "      <td>30</td>\n",
       "      <td>13950</td>\n",
       "    </tr>\n",
       "    <tr>\n",
       "      <th>4</th>\n",
       "      <td>2</td>\n",
       "      <td>164</td>\n",
       "      <td>audi</td>\n",
       "      <td>gas</td>\n",
       "      <td>std</td>\n",
       "      <td>four</td>\n",
       "      <td>sedan</td>\n",
       "      <td>4wd</td>\n",
       "      <td>front</td>\n",
       "      <td>99.4</td>\n",
       "      <td>176.6</td>\n",
       "      <td>66.4</td>\n",
       "      <td>54.3</td>\n",
       "      <td>2824</td>\n",
       "      <td>ohc</td>\n",
       "      <td>five</td>\n",
       "      <td>136</td>\n",
       "      <td>mpfi</td>\n",
       "      <td>3.19</td>\n",
       "      <td>3.40</td>\n",
       "      <td>8.0</td>\n",
       "      <td>115</td>\n",
       "      <td>5500</td>\n",
       "      <td>18</td>\n",
       "      <td>22</td>\n",
       "      <td>17450</td>\n",
       "    </tr>\n",
       "  </tbody>\n",
       "</table>\n",
       "</div>"
      ],
      "text/plain": [
       "   symboling normalized-losses         make fuel-type aspiration num-of-doors  \\\n",
       "0          3                 ?  alfa-romero       gas        std          two   \n",
       "1          3                 ?  alfa-romero       gas        std          two   \n",
       "2          1                 ?  alfa-romero       gas        std          two   \n",
       "3          2               164         audi       gas        std         four   \n",
       "4          2               164         audi       gas        std         four   \n",
       "\n",
       "    body-style drive-wheels engine-location  wheel-base  length  width  \\\n",
       "0  convertible          rwd           front        88.6   168.8   64.1   \n",
       "1  convertible          rwd           front        88.6   168.8   64.1   \n",
       "2    hatchback          rwd           front        94.5   171.2   65.5   \n",
       "3        sedan          fwd           front        99.8   176.6   66.2   \n",
       "4        sedan          4wd           front        99.4   176.6   66.4   \n",
       "\n",
       "   height  curb-weight engine-type num-of-cyclinders  engine-size fuel-system  \\\n",
       "0    48.8         2548        dohc              four          130        mpfi   \n",
       "1    48.8         2548        dohc              four          130        mpfi   \n",
       "2    52.4         2823        ohcv               six          152        mpfi   \n",
       "3    54.3         2337         ohc              four          109        mpfi   \n",
       "4    54.3         2824         ohc              five          136        mpfi   \n",
       "\n",
       "   bore stroke  compression-ratio horsepower peak-rpm  city-mpg  highway-mpg  \\\n",
       "0  3.47   2.68                9.0        111     5000        21           27   \n",
       "1  3.47   2.68                9.0        111     5000        21           27   \n",
       "2  2.68   3.47                9.0        154     5000        19           26   \n",
       "3  3.19   3.40               10.0        102     5500        24           30   \n",
       "4  3.19   3.40                8.0        115     5500        18           22   \n",
       "\n",
       "   price  \n",
       "0  13495  \n",
       "1  16500  \n",
       "2  16500  \n",
       "3  13950  \n",
       "4  17450  "
      ]
     },
     "execution_count": 5,
     "metadata": {},
     "output_type": "execute_result"
    }
   ],
   "source": [
    "cars = pd.read_csv('imports-85.data', names=[\n",
    "    'symboling',\n",
    "    'normalized-losses',\n",
    "    'make',\n",
    "    'fuel-type',\n",
    "    'aspiration',\n",
    "    'num-of-doors',\n",
    "    'body-style',\n",
    "    'drive-wheels',\n",
    "    'engine-location',\n",
    "    'wheel-base',\n",
    "    'length',\n",
    "    'width',\n",
    "    'height',\n",
    "    'curb-weight',\n",
    "    'engine-type',\n",
    "    'num-of-cyclinders',\n",
    "    'engine-size',\n",
    "    'fuel-system',\n",
    "    'bore',\n",
    "    'stroke',\n",
    "    'compression-ratio',\n",
    "    'horsepower',\n",
    "    'peak-rpm',\n",
    "    'city-mpg',\n",
    "    'highway-mpg',\n",
    "    'price'\n",
    "])\n",
    "print(cars.dtypes) #Determine which columns are numeric and can be used as features and which column is the target column\n",
    "cars.head(5)"
   ]
  },
  {
   "cell_type": "markdown",
   "metadata": {},
   "source": [
    "From above we can see that there are 9 numeric column types in the dataset. The 'price' column is our target column that our machine learning algorithm will be trying to predict."
   ]
  },
  {
   "cell_type": "markdown",
   "metadata": {},
   "source": [
    "## Evaluate null values"
   ]
  },
  {
   "cell_type": "markdown",
   "metadata": {},
   "source": [
    "Based on the data set preview from the last step, we can tell that the normalized-losses column contains missing values represented using \"?\". Let's replace these values and look for the presence of missing values in other numeric columns. Let's also rescale the values in the numeric columns so they all range from 0 to 1."
   ]
  },
  {
   "cell_type": "code",
   "execution_count": 13,
   "metadata": {
    "collapsed": false
   },
   "outputs": [],
   "source": [
    "cars = cars.replace('?', np.nan) #Use the DataFrame.replace() method to replace all of the ? values with the numpy.nan missing value\n",
    "\n",
    "numeric_columns = ['symboling', 'normalized-losses', 'wheel-base', 'length', 'width', 'height', 'curb-weight', 'engine-size', 'bore', 'stroke', 'compression-ratio', 'horsepower', 'peak-rpm', 'city-mpg', 'highway-mpg', 'price']\n",
    "cars_numeric_columns = cars[numeric_columns].copy()\n",
    "cars_numeric_columns = cars_numeric_columns.astype(float) #convert columns to numeric types"
   ]
  },
  {
   "cell_type": "code",
   "execution_count": 14,
   "metadata": {
    "collapsed": false
   },
   "outputs": [
    {
     "data": {
      "text/plain": [
       "symboling             0\n",
       "normalized-losses    41\n",
       "wheel-base            0\n",
       "length                0\n",
       "width                 0\n",
       "height                0\n",
       "curb-weight           0\n",
       "engine-size           0\n",
       "bore                  4\n",
       "stroke                4\n",
       "compression-ratio     0\n",
       "horsepower            2\n",
       "peak-rpm              2\n",
       "city-mpg              0\n",
       "highway-mpg           0\n",
       "price                 4\n",
       "dtype: int64"
      ]
     },
     "execution_count": 14,
     "metadata": {},
     "output_type": "execute_result"
    }
   ],
   "source": [
    "#check for missing values\n",
    "pd.isnull(cars_numeric_columns).sum()"
   ]
  },
  {
   "cell_type": "code",
   "execution_count": 15,
   "metadata": {
    "collapsed": false
   },
   "outputs": [
    {
     "data": {
      "text/plain": [
       "symboling             0\n",
       "normalized-losses    37\n",
       "wheel-base            0\n",
       "length                0\n",
       "width                 0\n",
       "height                0\n",
       "curb-weight           0\n",
       "engine-size           0\n",
       "bore                  4\n",
       "stroke                4\n",
       "compression-ratio     0\n",
       "horsepower            2\n",
       "peak-rpm              2\n",
       "city-mpg              0\n",
       "highway-mpg           0\n",
       "price                 0\n",
       "dtype: int64"
      ]
     },
     "execution_count": 15,
     "metadata": {},
     "output_type": "execute_result"
    }
   ],
   "source": [
    "# Because `price` is the column we want to predict, let's remove any rows with missing `price` values.\n",
    "cars_numeric_columns = cars_numeric_columns.dropna(subset=['price'])\n",
    "cars_numeric_columns.isnull().sum()"
   ]
  },
  {
   "cell_type": "code",
   "execution_count": 18,
   "metadata": {
    "collapsed": true
   },
   "outputs": [],
   "source": [
    "# Replace missing values in other columns using column means.\n",
    "cars_numeric_columns = cars_numeric_columns.fillna(cars_numeric_columns.mean())"
   ]
  },
  {
   "cell_type": "code",
   "execution_count": 19,
   "metadata": {
    "collapsed": false
   },
   "outputs": [
    {
     "data": {
      "text/plain": [
       "symboling            0\n",
       "normalized-losses    0\n",
       "wheel-base           0\n",
       "length               0\n",
       "width                0\n",
       "height               0\n",
       "curb-weight          0\n",
       "engine-size          0\n",
       "bore                 0\n",
       "stroke               0\n",
       "compression-ratio    0\n",
       "horsepower           0\n",
       "peak-rpm             0\n",
       "city-mpg             0\n",
       "highway-mpg          0\n",
       "price                0\n",
       "dtype: int64"
      ]
     },
     "execution_count": 19,
     "metadata": {},
     "output_type": "execute_result"
    }
   ],
   "source": [
    "#check for missing values\n",
    "pd.isnull(cars_numeric_columns).sum()"
   ]
  },
  {
   "cell_type": "markdown",
   "metadata": {},
   "source": [
    "## K-Nearest Neighbor Model"
   ]
  },
  {
   "cell_type": "markdown",
   "metadata": {},
   "source": [
    "### Univariate"
   ]
  },
  {
   "cell_type": "code",
   "execution_count": 83,
   "metadata": {
    "collapsed": false
   },
   "outputs": [
    {
     "data": {
      "image/png": "[encoded data removed]",
      "text/plain": [
       "<matplotlib.figure.Figure at 0x7f30357e4a90>"
      ]
     },
     "metadata": {},
     "output_type": "display_data"
    },
    {
     "name": "stdout",
     "output_type": "stream",
     "text": [
      "[2887.6471598864014, 3551.0101364103266, 4420.003293211443, 4433.75567874184, 4476.686877315731]\n"
     ]
    }
   ],
   "source": [
    "def knn_train_test(training_col_name, target_col_name, df, k):\n",
    "    randomized_df = df.iloc[np.random.RandomState(seed=1).permutation(len(df))]\n",
    "    #split the data set into a training and test set\n",
    "    df_length = int(round((len(randomized_df)*.75), 0))\n",
    "    training_set = randomized_df.iloc[0:df_length]\n",
    "    test_set = randomized_df.iloc[df_length:]\n",
    "    \n",
    "    train_columns = [training_col_name]\n",
    "    target_column = target_col_name\n",
    "    \n",
    "    #instantiate the KNeighborsRegressor class, fit the model on the training set, and make predictions on the test set\n",
    "    knn = KNeighborsRegressor(n_neighbors=k, algorithm='brute', metric='euclidean')\n",
    "    knn.fit(training_set[train_columns], training_set[target_column])\n",
    "    predictions = knn.predict(test_set[train_columns])\n",
    "\n",
    "    #calculate the RMSE and return that value\n",
    "    mse = mean_squared_error(test_set[target_column],predictions)\n",
    "    rmse = math.sqrt(mse) \n",
    "    return rmse\n",
    "    \n",
    "#For each numeric column, create, train, and test a univariate model using the following k values (1, 3, 5, 7, and 9)\n",
    "rmse_list = []\n",
    "k_values = [1,3,5,7,9]\n",
    "for i in k_values:\n",
    "    rmse_list.append(knn_train_test('wheel-base','price', cars_numeric_columns, i))\n",
    "\n",
    "#Visualize the results using a scatter plot \n",
    "pyplot.scatter(k_values, rmse_list)\n",
    "pyplot.show()\n",
    "print(rmse_list)"
   ]
  },
  {
   "cell_type": "markdown",
   "metadata": {},
   "source": [
    "Using a univariate model we can see that keeping k at 1 produced the lowest RMSE value at 4731. This will fluctuate, however, depending on how the train/test lists are randomly allocated. Here we set the random seed to 1 to get the same result if run again."
   ]
  },
  {
   "cell_type": "markdown",
   "metadata": {},
   "source": [
    "Looking at other columns more systematically we see these RMSE values:"
   ]
  },
  {
   "cell_type": "code",
   "execution_count": 85,
   "metadata": {
    "collapsed": false
   },
   "outputs": [
    {
     "data": {
      "text/plain": [
       "engine-size          3030.059103\n",
       "highway-mpg          3570.152139\n",
       "width                3830.539585\n",
       "curb-weight          4047.052502\n",
       "city-mpg             4080.456045\n",
       "wheel-base           4420.003293\n",
       "horsepower           4787.483489\n",
       "length               5363.698430\n",
       "compression-ratio    6058.663085\n",
       "height               6113.236509\n",
       "normalized-losses    6512.511099\n",
       "bore                 6887.975776\n",
       "symboling            7135.436831\n",
       "peak-rpm             7299.150537\n",
       "stroke               8306.528075\n",
       "dtype: float64"
      ]
     },
     "execution_count": 85,
     "metadata": {},
     "output_type": "execute_result"
    }
   ],
   "source": [
    "rmse_results = {}\n",
    "train_cols = cars_numeric_columns.columns.drop('price')\n",
    "\n",
    "for col in train_cols:\n",
    "    rmse_val = knn_train_test(col, 'price', cars_numeric_columns, 5)\n",
    "    rmse_results[col] = rmse_val\n",
    "\n",
    "# Create a Series object from the dictionary so \n",
    "# we can easily view the results, sort, etc\n",
    "rmse_results_series = pd.Series(rmse_results)\n",
    "rmse_results_series.sort_values()"
   ]
  },
  {
   "cell_type": "markdown",
   "metadata": {},
   "source": [
    "Now, varying the k values for each column:"
   ]
  },
  {
   "cell_type": "code",
   "execution_count": 87,
   "metadata": {
    "collapsed": false,
    "scrolled": true
   },
   "outputs": [
    {
     "data": {
      "text/plain": [
       "{'bore': {1: 8602.58848450066,\n",
       "  3: 6984.239489480916,\n",
       "  5: 6795.388311535586,\n",
       "  7: 6896.559499627726,\n",
       "  9: 6882.822815090022},\n",
       " 'city-mpg': {1: 5901.143574354764,\n",
       "  3: 4608.180446380397,\n",
       "  5: 4760.44984187731,\n",
       "  7: 5218.847825621605,\n",
       "  9: 5446.82446248222},\n",
       " 'compression-ratio': {1: 8087.205346523092,\n",
       "  3: 7375.063685578359,\n",
       "  5: 6610.812153159129,\n",
       "  7: 6732.801282941515,\n",
       "  9: 7024.485525463435},\n",
       " 'curb-weight': {1: 5264.290230758878,\n",
       "  3: 5022.318011757233,\n",
       "  5: 4445.141920375235,\n",
       "  7: 4330.608104418053,\n",
       "  9: 4632.92525121302},\n",
       " 'engine-size': {1: 3258.4861059962027,\n",
       "  3: 2951.5259704863593,\n",
       "  5: 3271.449938331611,\n",
       "  7: 3563.086774256415,\n",
       "  9: 3831.8244149840766},\n",
       " 'height': {1: 8751.160007407449,\n",
       "  3: 8121.165102604576,\n",
       "  5: 8073.1197593196175,\n",
       "  7: 7693.302663098179,\n",
       "  9: 7776.396862418894},\n",
       " 'highway-mpg': {1: 6025.594966720739,\n",
       "  3: 4671.390389789466,\n",
       "  5: 4643.046277675214,\n",
       "  7: 4792.485755925797,\n",
       "  9: 5227.337381566373},\n",
       " 'horsepower': {1: 4170.054848037801,\n",
       "  3: 4020.105451002961,\n",
       "  5: 4048.4377247389034,\n",
       "  7: 4205.3935213758805,\n",
       "  9: 4514.504641478055},\n",
       " 'length': {1: 4611.990241761035,\n",
       "  3: 5129.672039752984,\n",
       "  5: 5428.810101415201,\n",
       "  7: 5311.9103449731665,\n",
       "  9: 5383.054514833446},\n",
       " 'normalized-losses': {1: 7836.7752643899685,\n",
       "  3: 7516.084828453897,\n",
       "  5: 7339.675755133537,\n",
       "  7: 7759.126829130677,\n",
       "  9: 7794.746366502435},\n",
       " 'peak-rpm': {1: 9511.480067750124,\n",
       "  3: 8537.550899973421,\n",
       "  5: 7649.170564081823,\n",
       "  7: 7549.741950042047,\n",
       "  9: 7372.170592767732},\n",
       " 'stroke': {1: 9043.351317377035,\n",
       "  3: 7247.307977352132,\n",
       "  5: 7954.3010342434445,\n",
       "  7: 7777.566954222874,\n",
       "  9: 7755.398786442634},\n",
       " 'symboling': {1: 8420.026461589143,\n",
       "  3: 8736.916665985938,\n",
       "  5: 7979.434919842381,\n",
       "  7: 7884.532513187155,\n",
       "  9: 7817.760486088469},\n",
       " 'wheel-base': {1: 4493.734068810494,\n",
       "  3: 5208.39331165465,\n",
       "  5: 5460.851458362242,\n",
       "  7: 5448.1070513823315,\n",
       "  9: 5738.405685192312},\n",
       " 'width': {1: 4559.257297950061,\n",
       "  3: 4595.4858709976525,\n",
       "  5: 4772.459149439554,\n",
       "  7: 4715.918441236321,\n",
       "  9: 4730.373071846554}}"
      ]
     },
     "execution_count": 87,
     "metadata": {},
     "output_type": "execute_result"
    }
   ],
   "source": [
    "def knn_train_test(train_col, target_col, df):\n",
    "    np.random.seed(1)\n",
    "        \n",
    "    # Randomize order of rows in data frame.\n",
    "    shuffled_index = np.random.permutation(df.index)\n",
    "    rand_df = df.reindex(shuffled_index)\n",
    "\n",
    "    # Divide number of rows in half and round.\n",
    "    last_train_row = int(len(rand_df) / 2)\n",
    "    \n",
    "    # Select the first half and set as training set.\n",
    "    # Select the second half and set as test set.\n",
    "    train_df = rand_df.iloc[0:last_train_row]\n",
    "    test_df = rand_df.iloc[last_train_row:]\n",
    "    \n",
    "    k_values = [1,3,5,7,9]\n",
    "    k_rmses = {}\n",
    "    \n",
    "    for k in k_values:\n",
    "        # Fit model using k nearest neighbors.\n",
    "        knn = KNeighborsRegressor(n_neighbors=k)\n",
    "        knn.fit(train_df[[train_col]], train_df[target_col])\n",
    "\n",
    "        # Make predictions using model.\n",
    "        predicted_labels = knn.predict(test_df[[train_col]])\n",
    "\n",
    "        # Calculate and return RMSE.\n",
    "        mse = mean_squared_error(test_df[target_col], predicted_labels)\n",
    "        rmse = np.sqrt(mse)\n",
    "        \n",
    "        k_rmses[k] = rmse\n",
    "    return k_rmses\n",
    "\n",
    "k_rmse_results = {}\n",
    "\n",
    "# For each column (minus `price`), train a model, return RMSE value\n",
    "# and add to the dictionary `rmse_results`.\n",
    "train_cols = cars_numeric_columns.columns.drop('price')\n",
    "for col in train_cols:\n",
    "    rmse_val = knn_train_test(col, 'price', cars_numeric_columns)\n",
    "    k_rmse_results[col] = rmse_val\n",
    "\n",
    "k_rmse_results"
   ]
  },
  {
   "cell_type": "code",
   "execution_count": 90,
   "metadata": {
    "collapsed": false
   },
   "outputs": [
    {
     "data": {
      "image/png": "[encoded data removed]",
      "text/plain": [
       "<matplotlib.figure.Figure at 0x7f3035723748>"
      ]
     },
     "metadata": {},
     "output_type": "display_data"
    }
   ],
   "source": [
    "for k,v in k_rmse_results.items():\n",
    "    x = list(v.keys())\n",
    "    y = list(v.values())\n",
    "    \n",
    "    pyplot.plot(x,y)\n",
    "    pyplot.xlabel('k value')\n",
    "    pyplot.ylabel('RMSE')"
   ]
  },
  {
   "cell_type": "markdown",
   "metadata": {},
   "source": [
    "### Multivariate"
   ]
  },
  {
   "cell_type": "code",
   "execution_count": 80,
   "metadata": {
    "collapsed": false
   },
   "outputs": [
    {
     "data": {
      "text/plain": [
       "2736.002977629959"
      ]
     },
     "execution_count": 80,
     "metadata": {},
     "output_type": "execute_result"
    }
   ],
   "source": [
    "def knn_train_test(training_col_names, target_col_name, df, k):\n",
    "    randomized_df = df.iloc[np.random.RandomState(seed=1).permutation(len(df))]\n",
    "    #split the data set into a training and test set\n",
    "    df_length = int(round((len(randomized_df)*.75), 0))\n",
    "    training_set = randomized_df.iloc[0:df_length]\n",
    "    test_set = randomized_df.iloc[df_length:]\n",
    "    \n",
    "    train_columns = training_col_names\n",
    "    target_column = target_col_name\n",
    "    \n",
    "    #instantiate the KNeighborsRegressor class, fit the model on the training set, and make predictions on the test set\n",
    "    knn = KNeighborsRegressor(n_neighbors=k, algorithm='brute', metric='euclidean')\n",
    "    knn.fit(training_set[train_columns], training_set[target_column])\n",
    "    predictions = knn.predict(test_set[train_columns])\n",
    "\n",
    "    #calculate the RMSE and return that value\n",
    "    mse = mean_squared_error(test_set[target_column],predictions)\n",
    "    rmse = math.sqrt(mse) \n",
    "    return rmse\n",
    "\n",
    "\n",
    "knn_train_test(list(cars_numeric_columns.drop(['price'], axis=1).columns), 'price', cars_numeric_columns, 5)"
   ]
  },
  {
   "cell_type": "markdown",
   "metadata": {},
   "source": [
    "Using all of the columns we get an RMSE value of 2736. Now let's do it broken out by best RMSE values and step by step add more columns to see how that affects RMSE value:"
   ]
  },
  {
   "cell_type": "code",
   "execution_count": 92,
   "metadata": {
    "collapsed": false
   },
   "outputs": [
    {
     "name": "stdout",
     "output_type": "stream",
     "text": [
      "engine-size          3375.274641\n",
      "horsepower           4191.699237\n",
      "width                4674.698766\n",
      "curb-weight          4739.056704\n",
      "highway-mpg          5071.970954\n",
      "length               5173.087449\n",
      "city-mpg             5187.089230\n",
      "wheel-base           5269.898315\n",
      "compression-ratio    7166.073599\n",
      "bore                 7232.319720\n",
      "normalized-losses    7649.281809\n",
      "stroke               7955.585214\n",
      "height               8083.028879\n",
      "peak-rpm             8124.022815\n",
      "symboling            8167.734209\n",
      "dtype: float64\n"
     ]
    }
   ],
   "source": [
    "# Compute average RMSE across different `k` values for each feature.\n",
    "feature_avg_rmse = {}\n",
    "for k,v in k_rmse_results.items():\n",
    "    avg_rmse = np.mean(list(v.values()))\n",
    "    feature_avg_rmse[k] = avg_rmse\n",
    "series_avg_rmse = pd.Series(feature_avg_rmse)\n",
    "sorted_series_avg_rmse = series_avg_rmse.sort_values()\n",
    "print(sorted_series_avg_rmse)\n",
    "\n",
    "sorted_features = sorted_series_avg_rmse.index"
   ]
  },
  {
   "cell_type": "code",
   "execution_count": 94,
   "metadata": {
    "collapsed": false
   },
   "outputs": [
    {
     "data": {
      "text/plain": [
       "{'2 best features': {5: 2925.00464591321},\n",
       " '3 best features': {5: 2901.007254846714},\n",
       " '4 best features': {5: 3864.067381953533},\n",
       " '5 best features': {5: 3870.6838798617723},\n",
       " '6 best features': {5: 3872.2947119553833}}"
      ]
     },
     "execution_count": 94,
     "metadata": {},
     "output_type": "execute_result"
    }
   ],
   "source": [
    "def knn_train_test(train_cols, target_col, df):\n",
    "    np.random.seed(1)\n",
    "    \n",
    "    # Randomize order of rows in data frame.\n",
    "    shuffled_index = np.random.permutation(df.index)\n",
    "    rand_df = df.reindex(shuffled_index)\n",
    "\n",
    "    # Divide number of rows in half and round.\n",
    "    last_train_row = int(len(rand_df) / 2)\n",
    "    \n",
    "    # Select the first half and set as training set.\n",
    "    # Select the second half and set as test set.\n",
    "    train_df = rand_df.iloc[0:last_train_row]\n",
    "    test_df = rand_df.iloc[last_train_row:]\n",
    "    \n",
    "    k_values = [5]\n",
    "    k_rmses = {}\n",
    "    \n",
    "    for k in k_values:\n",
    "        # Fit model using k nearest neighbors.\n",
    "        knn = KNeighborsRegressor(n_neighbors=k)\n",
    "        knn.fit(train_df[train_cols], train_df[target_col])\n",
    "\n",
    "        # Make predictions using model.\n",
    "        predicted_labels = knn.predict(test_df[train_cols])\n",
    "\n",
    "        # Calculate and return RMSE.\n",
    "        mse = mean_squared_error(test_df[target_col], predicted_labels)\n",
    "        rmse = np.sqrt(mse)\n",
    "        \n",
    "        k_rmses[k] = rmse\n",
    "    return k_rmses\n",
    "\n",
    "k_rmse_results = {}\n",
    "\n",
    "for nr_best_feats in range(2,7):\n",
    "    k_rmse_results['{} best features'.format(nr_best_feats)] = knn_train_test(\n",
    "        sorted_features[:nr_best_feats],\n",
    "        'price',\n",
    "        cars_numeric_columns\n",
    "    )\n",
    "\n",
    "k_rmse_results"
   ]
  },
  {
   "cell_type": "markdown",
   "metadata": {},
   "source": [
    "Using the top 3 features produced the best RMSE value"
   ]
  },
  {
   "cell_type": "markdown",
   "metadata": {},
   "source": [
    "## Hyperparameter Tuning"
   ]
  },
  {
   "cell_type": "markdown",
   "metadata": {},
   "source": [
    "Let's now optimize the model that performed the best in the previous step."
   ]
  },
  {
   "cell_type": "code",
   "execution_count": 98,
   "metadata": {
    "collapsed": false
   },
   "outputs": [
    {
     "data": {
      "text/plain": [
       "{'2 best features': {1: 2832.6762159757077,\n",
       "  2: 2592.760534757126,\n",
       "  3: 2620.327691572396,\n",
       "  4: 2824.6258095735284,\n",
       "  5: 2925.00464591321,\n",
       "  6: 3162.7465130445685,\n",
       "  7: 3295.7806528253186,\n",
       "  8: 3580.3376319325566,\n",
       "  9: 3844.44037715117,\n",
       "  10: 4066.955641740046,\n",
       "  11: 4162.831387739917,\n",
       "  12: 4250.9953344770765,\n",
       "  13: 4288.279719198008,\n",
       "  14: 4318.677524353425,\n",
       "  15: 4384.634184404111,\n",
       "  16: 4477.339380724929,\n",
       "  17: 4542.7101905616355,\n",
       "  18: 4675.594058904271,\n",
       "  19: 4696.93629950144,\n",
       "  20: 4684.844437694387,\n",
       "  21: 4744.078137218994,\n",
       "  22: 4779.969895724662,\n",
       "  23: 4826.869687492047,\n",
       "  24: 4881.349005863175,\n",
       "  25: 4963.926213279482},\n",
       " '3 best features': {1: 2861.158731550683,\n",
       "  2: 2644.428153665928,\n",
       "  3: 2681.7457878865184,\n",
       "  4: 2722.280458854013,\n",
       "  5: 2901.007254846714,\n",
       "  6: 3079.0995987640463,\n",
       "  7: 3210.5192759138426,\n",
       "  8: 3485.8385181559474,\n",
       "  9: 3782.798641745253,\n",
       "  10: 4029.356670465123,\n",
       "  11: 4133.471835231293,\n",
       "  12: 4225.481801502254,\n",
       "  13: 4232.577904328598,\n",
       "  14: 4309.041242789048,\n",
       "  15: 4357.017184977242,\n",
       "  16: 4451.130131996225,\n",
       "  17: 4543.0024407027095,\n",
       "  18: 4670.682954647491,\n",
       "  19: 4674.252920094919,\n",
       "  20: 4669.189417165076,\n",
       "  21: 4735.236144220056,\n",
       "  22: 4772.760962066603,\n",
       "  23: 4823.185623106587,\n",
       "  24: 4879.83106052871,\n",
       "  25: 4955.147145229418},\n",
       " '4 best features': {1: 4341.911586815509,\n",
       "  2: 4239.332124157164,\n",
       "  3: 3916.3575723832314,\n",
       "  4: 3855.6983724555575,\n",
       "  5: 3864.067381953533,\n",
       "  6: 4008.3548993882696,\n",
       "  7: 4077.4287673481854,\n",
       "  8: 4266.3491801044565,\n",
       "  9: 4475.694462909053,\n",
       "  10: 4414.220930971369,\n",
       "  11: 4596.13336246967,\n",
       "  12: 4670.70562254195,\n",
       "  13: 4836.336616799352,\n",
       "  14: 4932.287971414094,\n",
       "  15: 4938.571945729486,\n",
       "  16: 4980.408746974021,\n",
       "  17: 5034.635930139949,\n",
       "  18: 5121.525395927175,\n",
       "  19: 5122.043106542827,\n",
       "  20: 5203.772103719618,\n",
       "  21: 5176.386950165032,\n",
       "  22: 5151.719498090513,\n",
       "  23: 5213.81748035078,\n",
       "  24: 5207.942980122765,\n",
       "  25: 5240.723294186189}}"
      ]
     },
     "execution_count": 98,
     "metadata": {},
     "output_type": "execute_result"
    }
   ],
   "source": [
    "def knn_train_test(train_cols, target_col, df):\n",
    "    np.random.seed(1)\n",
    "    \n",
    "    # Randomize order of rows in data frame.\n",
    "    shuffled_index = np.random.permutation(df.index)\n",
    "    rand_df = df.reindex(shuffled_index)\n",
    "\n",
    "    # Divide number of rows in half and round.\n",
    "    last_train_row = int(len(rand_df) / 2)\n",
    "    \n",
    "    # Select the first half and set as training set.\n",
    "    # Select the second half and set as test set.\n",
    "    train_df = rand_df.iloc[0:last_train_row]\n",
    "    test_df = rand_df.iloc[last_train_row:]\n",
    "    \n",
    "    k_values = [i for i in range(1,26)]\n",
    "    k_rmses = {}\n",
    "    \n",
    "    for k in k_values:\n",
    "        # Fit model using k nearest neighbors.\n",
    "        knn = KNeighborsRegressor(n_neighbors=k)\n",
    "        knn.fit(train_df[train_cols], train_df[target_col])\n",
    "\n",
    "        # Make predictions using model.\n",
    "        predicted_labels = knn.predict(test_df[train_cols])\n",
    "\n",
    "        # Calculate and return RMSE.\n",
    "        mse = mean_squared_error(test_df[target_col], predicted_labels)\n",
    "        rmse = np.sqrt(mse)\n",
    "        \n",
    "        k_rmses[k] = rmse\n",
    "    return k_rmses\n",
    "\n",
    "k_rmse_results = {}\n",
    "\n",
    "for nr_best_feats in range(2,5):\n",
    "    k_rmse_results['{} best features'.format(nr_best_feats)] = knn_train_test(\n",
    "        sorted_features[:nr_best_feats],\n",
    "        'price',\n",
    "        cars_numeric_columns\n",
    "    )\n",
    "\n",
    "k_rmse_results"
   ]
  },
  {
   "cell_type": "code",
   "execution_count": 99,
   "metadata": {
    "collapsed": false
   },
   "outputs": [
    {
     "data": {
      "text/plain": [
       "<matplotlib.legend.Legend at 0x7f3035609dd8>"
      ]
     },
     "execution_count": 99,
     "metadata": {},
     "output_type": "execute_result"
    },
    {
     "data": {
      "image/png": "[encoded data removed]",
      "text/plain": [
       "<matplotlib.figure.Figure at 0x7f3035609e10>"
      ]
     },
     "metadata": {},
     "output_type": "display_data"
    }
   ],
   "source": [
    "for k,v in k_rmse_results.items():\n",
    "    x = list(v.keys())\n",
    "    y = list(v.values())  \n",
    "    plt.plot(x,y, label=\"{}\".format(k))\n",
    "    \n",
    "plt.xlabel('k value')\n",
    "plt.ylabel('RMSE')\n",
    "plt.legend()"
   ]
  },
  {
   "cell_type": "markdown",
   "metadata": {},
   "source": [
    "We can see from above that a k-value of 2 seems to be most optimal."
   ]
  },
  {
   "cell_type": "code",
   "execution_count": null,
   "metadata": {
    "collapsed": true
   },
   "outputs": [],
   "source": []
  }
 ],
 "metadata": {
  "kernelspec": {
   "display_name": "Python 3",
   "language": "python",
   "name": "python3"
  },
  "language_info": {
   "codemirror_mode": {
    "name": "ipython",
    "version": 3
   },
   "file_extension": ".py",
   "mimetype": "text/x-python",
   "name": "python",
   "nbconvert_exporter": "python",
   "pygments_lexer": "ipython3",
   "version": "3.4.3"
  }
 },
 "nbformat": 4,
 "nbformat_minor": 2
}
